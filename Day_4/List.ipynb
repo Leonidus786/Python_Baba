{
 "cells": [
  {
   "cell_type": "markdown",
   "id": "6064f60a",
   "metadata": {},
   "source": [
    "### List\n",
    "### Lists are used to store multiple items in a single variable.\n",
    "\n",
    "### Lists are one of 4 built-in data types in Python used to store collections of data, the other 3 are Tuple, Set, and Dictionary, all with different qualities and usage.\n",
    "\n",
    "### Lists are created using square brackets"
   ]
  },
  {
   "cell_type": "code",
   "execution_count": 11,
   "id": "68deca9e",
   "metadata": {},
   "outputs": [],
   "source": [
    "list_1 = [[1, 2.7], 8+3j, \"Umesh\", [1,2,3], (5,)]"
   ]
  },
  {
   "cell_type": "code",
   "execution_count": 3,
   "id": "1567e2d4",
   "metadata": {},
   "outputs": [
    {
     "data": {
      "text/plain": [
       "5"
      ]
     },
     "execution_count": 3,
     "metadata": {},
     "output_type": "execute_result"
    }
   ],
   "source": [
    "len(list_1)"
   ]
  },
  {
   "cell_type": "code",
   "execution_count": 4,
   "id": "4ecbd8d0",
   "metadata": {},
   "outputs": [
    {
     "data": {
      "text/plain": [
       "[1, 2.7]"
      ]
     },
     "execution_count": 4,
     "metadata": {},
     "output_type": "execute_result"
    }
   ],
   "source": [
    "list_1[-5]"
   ]
  },
  {
   "cell_type": "code",
   "execution_count": 5,
   "id": "9025e883",
   "metadata": {},
   "outputs": [
    {
     "data": {
      "text/plain": [
       "[(8+3j), 'Umesh']"
      ]
     },
     "execution_count": 5,
     "metadata": {},
     "output_type": "execute_result"
    }
   ],
   "source": [
    "list_1[1:3]"
   ]
  },
  {
   "cell_type": "code",
   "execution_count": 6,
   "id": "7b39ffc0",
   "metadata": {},
   "outputs": [
    {
     "data": {
      "text/plain": [
       "[1, 2.7]"
      ]
     },
     "execution_count": 6,
     "metadata": {},
     "output_type": "execute_result"
    }
   ],
   "source": [
    "list_1[0]"
   ]
  },
  {
   "cell_type": "code",
   "execution_count": 7,
   "id": "a2cd8dd0",
   "metadata": {},
   "outputs": [],
   "source": [
    "list_1[0] = \"Mango\""
   ]
  },
  {
   "cell_type": "code",
   "execution_count": 12,
   "id": "6473c632",
   "metadata": {},
   "outputs": [
    {
     "data": {
      "text/plain": [
       "[[1, 2.7], (8+3j), 'Umesh', [1, 2, 3], (5,)]"
      ]
     },
     "execution_count": 12,
     "metadata": {},
     "output_type": "execute_result"
    }
   ],
   "source": [
    "list_1"
   ]
  },
  {
   "cell_type": "markdown",
   "id": "6e06a3bd",
   "metadata": {},
   "source": [
    "### How to replace one item or a range of items."
   ]
  },
  {
   "cell_type": "code",
   "execution_count": 13,
   "id": "c35c7e86",
   "metadata": {},
   "outputs": [],
   "source": [
    "list_1[1:3] = [\"Apple\",\"Mango\"]"
   ]
  },
  {
   "cell_type": "code",
   "execution_count": 14,
   "id": "cc95cebc",
   "metadata": {},
   "outputs": [
    {
     "data": {
      "text/plain": [
       "[[1, 2.7], 'Apple', 'Mango', [1, 2, 3], (5,)]"
      ]
     },
     "execution_count": 14,
     "metadata": {},
     "output_type": "execute_result"
    }
   ],
   "source": [
    "list_1"
   ]
  },
  {
   "cell_type": "markdown",
   "id": "1be2cae2",
   "metadata": {},
   "source": [
    "#### Ways to insert items in list without replacing"
   ]
  },
  {
   "cell_type": "code",
   "execution_count": 15,
   "id": "ae0ac6bd",
   "metadata": {},
   "outputs": [],
   "source": [
    "list_1.insert(0, \"Grapes\")"
   ]
  },
  {
   "cell_type": "code",
   "execution_count": 16,
   "id": "274e3b7d",
   "metadata": {},
   "outputs": [
    {
     "data": {
      "text/plain": [
       "['Grapes', [1, 2.7], 'Apple', 'Mango', [1, 2, 3], (5,)]"
      ]
     },
     "execution_count": 16,
     "metadata": {},
     "output_type": "execute_result"
    }
   ],
   "source": [
    "list_1"
   ]
  },
  {
   "cell_type": "code",
   "execution_count": 17,
   "id": "18fa7ebe",
   "metadata": {},
   "outputs": [],
   "source": [
    "list_1.append(\"Watermelon\")"
   ]
  },
  {
   "cell_type": "code",
   "execution_count": 18,
   "id": "cb3b28b9",
   "metadata": {},
   "outputs": [
    {
     "data": {
      "text/plain": [
       "['Grapes', [1, 2.7], 'Apple', 'Mango', [1, 2, 3], (5,), 'Watermelon']"
      ]
     },
     "execution_count": 18,
     "metadata": {},
     "output_type": "execute_result"
    }
   ],
   "source": [
    "list_1"
   ]
  },
  {
   "cell_type": "code",
   "execution_count": 30,
   "id": "e7614382",
   "metadata": {},
   "outputs": [],
   "source": [
    "thislist = [\"apple\", \"banana\", \"cherry\"]\n",
    "tropical = [\"mango\", \"pineapple\", \"papaya\"]"
   ]
  },
  {
   "cell_type": "code",
   "execution_count": 31,
   "id": "c0bd80c5",
   "metadata": {},
   "outputs": [
    {
     "data": {
      "text/plain": [
       "['apple', 'banana', 'cherry', 'mango', 'pineapple', 'papaya']"
      ]
     },
     "execution_count": 31,
     "metadata": {},
     "output_type": "execute_result"
    }
   ],
   "source": [
    "thislist.extend(tropical)\n",
    "thislist"
   ]
  },
  {
   "cell_type": "code",
   "execution_count": 23,
   "id": "570fbc60",
   "metadata": {},
   "outputs": [],
   "source": [
    "thislist.remove(\"mango\")"
   ]
  },
  {
   "cell_type": "code",
   "execution_count": 24,
   "id": "313be572",
   "metadata": {},
   "outputs": [
    {
     "data": {
      "text/plain": [
       "['apple',\n",
       " 'banana',\n",
       " 'cherry',\n",
       " 'pineapple',\n",
       " 'papaya',\n",
       " 'mango',\n",
       " 'pineapple',\n",
       " 'papaya']"
      ]
     },
     "execution_count": 24,
     "metadata": {},
     "output_type": "execute_result"
    }
   ],
   "source": [
    "thislist"
   ]
  },
  {
   "cell_type": "code",
   "execution_count": 25,
   "id": "ce874522",
   "metadata": {},
   "outputs": [
    {
     "data": {
      "text/plain": [
       "'papaya'"
      ]
     },
     "execution_count": 25,
     "metadata": {},
     "output_type": "execute_result"
    }
   ],
   "source": [
    "thislist.pop()"
   ]
  },
  {
   "cell_type": "code",
   "execution_count": 26,
   "id": "e54c9d90",
   "metadata": {},
   "outputs": [
    {
     "data": {
      "text/plain": [
       "'papaya'"
      ]
     },
     "execution_count": 26,
     "metadata": {},
     "output_type": "execute_result"
    }
   ],
   "source": [
    "thislist.pop(4)"
   ]
  },
  {
   "cell_type": "code",
   "execution_count": 27,
   "id": "39a43825",
   "metadata": {},
   "outputs": [
    {
     "data": {
      "text/plain": [
       "['apple', 'banana', 'cherry', 'pineapple', 'mango', 'pineapple']"
      ]
     },
     "execution_count": 27,
     "metadata": {},
     "output_type": "execute_result"
    }
   ],
   "source": [
    "thislist"
   ]
  },
  {
   "cell_type": "code",
   "execution_count": 28,
   "id": "ae8d1bdc",
   "metadata": {},
   "outputs": [
    {
     "name": "stdout",
     "output_type": "stream",
     "text": [
      "['banana', 'cherry']\n"
     ]
    }
   ],
   "source": [
    "thislist = [\"apple\", \"banana\", \"cherry\"]\n",
    "del thislist[0]\n",
    "print(thislist)"
   ]
  },
  {
   "cell_type": "code",
   "execution_count": 29,
   "id": "4fc2176b",
   "metadata": {},
   "outputs": [],
   "source": [
    "del thislist"
   ]
  },
  {
   "cell_type": "code",
   "execution_count": 32,
   "id": "565ebfa4",
   "metadata": {},
   "outputs": [
    {
     "data": {
      "text/plain": [
       "['apple', 'banana', 'cherry', 'mango', 'pineapple', 'papaya']"
      ]
     },
     "execution_count": 32,
     "metadata": {},
     "output_type": "execute_result"
    }
   ],
   "source": [
    "thislist"
   ]
  },
  {
   "cell_type": "code",
   "execution_count": 33,
   "id": "877b9fc8",
   "metadata": {},
   "outputs": [
    {
     "name": "stdout",
     "output_type": "stream",
     "text": [
      "apple\n",
      "banana\n",
      "cherry\n",
      "mango\n",
      "pineapple\n",
      "papaya\n"
     ]
    }
   ],
   "source": [
    "for x in thislist:\n",
    "    print(x)"
   ]
  },
  {
   "cell_type": "code",
   "execution_count": null,
   "id": "8ddd2768",
   "metadata": {},
   "outputs": [],
   "source": []
  }
 ],
 "metadata": {
  "kernelspec": {
   "display_name": "Python 3",
   "language": "python",
   "name": "python3"
  },
  "language_info": {
   "codemirror_mode": {
    "name": "ipython",
    "version": 3
   },
   "file_extension": ".py",
   "mimetype": "text/x-python",
   "name": "python",
   "nbconvert_exporter": "python",
   "pygments_lexer": "ipython3",
   "version": "3.12.0"
  }
 },
 "nbformat": 4,
 "nbformat_minor": 5
}
