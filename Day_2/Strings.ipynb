{
 "cells": [
  {
   "cell_type": "markdown",
   "id": "cf4432b9",
   "metadata": {},
   "source": [
    "### Strigs -- Normal Text in python is called strings or anything between \n",
    "### single quotes(' '),\"\", ''' ''',\"\"\" \"\"\"\n"
   ]
  },
  {
   "cell_type": "code",
   "execution_count": 2,
   "id": "eb3be22a",
   "metadata": {},
   "outputs": [],
   "source": [
    "First_Name = 'Umesh'"
   ]
  },
  {
   "cell_type": "code",
   "execution_count": 3,
   "id": "1858b84d",
   "metadata": {},
   "outputs": [
    {
     "name": "stdout",
     "output_type": "stream",
     "text": [
      "<class 'str'>\n"
     ]
    }
   ],
   "source": [
    "# type(Name)\n",
    "print(type(First_Name))"
   ]
  },
  {
   "cell_type": "code",
   "execution_count": 4,
   "id": "610741bc",
   "metadata": {},
   "outputs": [
    {
     "data": {
      "text/plain": [
       "'Umesh'"
      ]
     },
     "execution_count": 4,
     "metadata": {},
     "output_type": "execute_result"
    }
   ],
   "source": [
    "First_Name"
   ]
  },
  {
   "cell_type": "code",
   "execution_count": 5,
   "id": "cceaf697",
   "metadata": {},
   "outputs": [],
   "source": [
    "Last_Name = 'Kumar'"
   ]
  },
  {
   "cell_type": "code",
   "execution_count": 6,
   "id": "07ac12a8",
   "metadata": {},
   "outputs": [],
   "source": [
    "## Concatenation -- Merging two or more strings together\n",
    "\n",
    "Full_name = First_Name +\" \" +Last_Name"
   ]
  },
  {
   "cell_type": "code",
   "execution_count": 7,
   "id": "44a470f2",
   "metadata": {},
   "outputs": [
    {
     "data": {
      "text/plain": [
       "'Umesh Kumar'"
      ]
     },
     "execution_count": 7,
     "metadata": {},
     "output_type": "execute_result"
    }
   ],
   "source": [
    "Full_name"
   ]
  },
  {
   "cell_type": "code",
   "execution_count": 8,
   "id": "993cdb38",
   "metadata": {},
   "outputs": [
    {
     "data": {
      "text/plain": [
       "'Umesh'"
      ]
     },
     "execution_count": 8,
     "metadata": {},
     "output_type": "execute_result"
    }
   ],
   "source": [
    "First_Name"
   ]
  },
  {
   "cell_type": "code",
   "execution_count": 9,
   "id": "77dc0f45",
   "metadata": {},
   "outputs": [
    {
     "name": "stdout",
     "output_type": "stream",
     "text": [
      "The Zen of Python, by Tim Peters\n",
      "\n",
      "Beautiful is better than ugly.\n",
      "Explicit is better than implicit.\n",
      "Simple is better than complex.\n",
      "Complex is better than complicated.\n",
      "Flat is better than nested.\n",
      "Sparse is better than dense.\n",
      "Readability counts.\n",
      "Special cases aren't special enough to break the rules.\n",
      "Although practicality beats purity.\n",
      "Errors should never pass silently.\n",
      "Unless explicitly silenced.\n",
      "In the face of ambiguity, refuse the temptation to guess.\n",
      "There should be one-- and preferably only one --obvious way to do it.\n",
      "Although that way may not be obvious at first unless you're Dutch.\n",
      "Now is better than never.\n",
      "Although never is often better than *right* now.\n",
      "If the implementation is hard to explain, it's a bad idea.\n",
      "If the implementation is easy to explain, it may be a good idea.\n",
      "Namespaces are one honking great idea -- let's do more of those!\n"
     ]
    }
   ],
   "source": [
    "import this"
   ]
  },
  {
   "cell_type": "code",
   "execution_count": 10,
   "id": "11b41992",
   "metadata": {},
   "outputs": [],
   "source": [
    "poem = \"\"\"The Zen of Python, by Tim Peters\n",
    "\n",
    "Beautiful is better than ugly.\n",
    "Explicit is better than implicit.\n",
    "Simple is better than complex.\n",
    "Complex is better than complicated.\n",
    "Flat is better than nested.\n",
    "Sparse is better than dense.\n",
    "Readability counts.\n",
    "Special cases aren't special enough to break the rules.\n",
    "Although practicality beats purity.\n",
    "Errors should never pass silently.\n",
    "Unless explicitly silenced.\n",
    "In the face of ambiguity, refuse the temptation to guess.\n",
    "There should be one-- and preferably only one --obvious way to do it.\n",
    "Although that way may not be obvious at first unless you're Dutch.\n",
    "Now is better than never.\n",
    "Although never is often better than *right* now.\n",
    "If the implementation is hard to explain, it's a bad idea.\n",
    "If the implementation is easy to explain, it may be a good idea.\n",
    "Namespaces are one honking great idea -- let's do more of those!\"\"\""
   ]
  },
  {
   "cell_type": "code",
   "execution_count": 11,
   "id": "46d5fedd",
   "metadata": {},
   "outputs": [
    {
     "name": "stdout",
     "output_type": "stream",
     "text": [
      "The Zen of Python, by Tim Peters\n",
      "\n",
      "Beautiful is better than ugly.\n",
      "Explicit is better than implicit.\n",
      "Simple is better than complex.\n",
      "Complex is better than complicated.\n",
      "Flat is better than nested.\n",
      "Sparse is better than dense.\n",
      "Readability counts.\n",
      "Special cases aren't special enough to break the rules.\n",
      "Although practicality beats purity.\n",
      "Errors should never pass silently.\n",
      "Unless explicitly silenced.\n",
      "In the face of ambiguity, refuse the temptation to guess.\n",
      "There should be one-- and preferably only one --obvious way to do it.\n",
      "Although that way may not be obvious at first unless you're Dutch.\n",
      "Now is better than never.\n",
      "Although never is often better than *right* now.\n",
      "If the implementation is hard to explain, it's a bad idea.\n",
      "If the implementation is easy to explain, it may be a good idea.\n",
      "Namespaces are one honking great idea -- let's do more of those!\n"
     ]
    }
   ],
   "source": [
    "print(poem)"
   ]
  },
  {
   "cell_type": "code",
   "execution_count": 12,
   "id": "462c1705",
   "metadata": {},
   "outputs": [
    {
     "data": {
      "text/plain": [
       "'Umesh Kumar'"
      ]
     },
     "execution_count": 12,
     "metadata": {},
     "output_type": "execute_result"
    }
   ],
   "source": [
    "Full_name"
   ]
  },
  {
   "cell_type": "markdown",
   "id": "fc8510e8",
   "metadata": {},
   "source": [
    "### F-Strings -- Used as a formatter.\n",
    "\n",
    "### f''\n",
    "\n",
    "### f' {placeholder} '"
   ]
  },
  {
   "cell_type": "code",
   "execution_count": 13,
   "id": "f7b3b4f6",
   "metadata": {},
   "outputs": [
    {
     "name": "stdout",
     "output_type": "stream",
     "text": [
      "My name is : Umesh Kumar\n"
     ]
    }
   ],
   "source": [
    "print(f\"My name is : {Full_name}\")"
   ]
  },
  {
   "cell_type": "markdown",
   "id": "f3368e8e",
   "metadata": {},
   "source": [
    "### Escape characters -- Words for importance."
   ]
  },
  {
   "cell_type": "code",
   "execution_count": 14,
   "id": "b50cc482",
   "metadata": {},
   "outputs": [
    {
     "ename": "SyntaxError",
     "evalue": "invalid syntax (7934146.py, line 1)",
     "output_type": "error",
     "traceback": [
      "  \u001b[36mCell\u001b[39m\u001b[36m \u001b[39m\u001b[32mIn[14]\u001b[39m\u001b[32m, line 1\u001b[39m\n\u001b[31m    \u001b[39m\u001b[31mtxt = \"We are the so-called \"Vikings\" from the north.\"\u001b[39m\n                                 ^\n\u001b[31mSyntaxError\u001b[39m\u001b[31m:\u001b[39m invalid syntax\n"
     ]
    }
   ],
   "source": [
    "txt = \"We are the so-called \"Vikings\" from the north.\""
   ]
  },
  {
   "cell_type": "code",
   "execution_count": 15,
   "id": "6ff2339f",
   "metadata": {},
   "outputs": [
    {
     "name": "stdout",
     "output_type": "stream",
     "text": [
      "We are the so-called \"Vikings\" from the north.\n"
     ]
    }
   ],
   "source": [
    "txt = \"We are the so-called \\\"Vikings\\\" from the north.\"\n",
    "print(txt)"
   ]
  },
  {
   "cell_type": "code",
   "execution_count": 16,
   "id": "0491aec4",
   "metadata": {},
   "outputs": [
    {
     "name": "stdout",
     "output_type": "stream",
     "text": [
      "We are the so-called \"Vikings\" from the north.\n"
     ]
    }
   ],
   "source": [
    "txt = 'We are the so-called \"Vikings\" from the north.'\n",
    "print(txt)"
   ]
  },
  {
   "cell_type": "code",
   "execution_count": 17,
   "id": "44ffc954",
   "metadata": {},
   "outputs": [],
   "source": [
    "txt = \"We are the so-called 'Vikings' from the north.\""
   ]
  },
  {
   "cell_type": "code",
   "execution_count": 18,
   "id": "762f9dea",
   "metadata": {},
   "outputs": [
    {
     "data": {
      "text/plain": [
       "\"We are the so-called 'Vikings' from the north.\""
      ]
     },
     "execution_count": 18,
     "metadata": {},
     "output_type": "execute_result"
    }
   ],
   "source": [
    "txt"
   ]
  },
  {
   "cell_type": "code",
   "execution_count": 19,
   "id": "c8dad277",
   "metadata": {},
   "outputs": [
    {
     "data": {
      "text/plain": [
       "'Umesh kumar'"
      ]
     },
     "execution_count": 19,
     "metadata": {},
     "output_type": "execute_result"
    }
   ],
   "source": [
    "Full_name.capitalize()"
   ]
  },
  {
   "cell_type": "markdown",
   "id": "074966f8",
   "metadata": {},
   "source": [
    "### output function - print() -- ye screen pe output dega\n",
    "\n",
    "### input Function -- input() -- ye user (hamlog) se input lega fir output dega."
   ]
  },
  {
   "cell_type": "code",
   "execution_count": null,
   "id": "3b6fc2e0",
   "metadata": {},
   "outputs": [],
   "source": [
    "Q_1 = input(\"What is your name ? : \")"
   ]
  },
  {
   "cell_type": "code",
   "execution_count": 21,
   "id": "08aecb00",
   "metadata": {},
   "outputs": [
    {
     "data": {
      "text/plain": [
       "'Amit'"
      ]
     },
     "execution_count": 21,
     "metadata": {},
     "output_type": "execute_result"
    }
   ],
   "source": [
    "Q_1"
   ]
  },
  {
   "cell_type": "code",
   "execution_count": 22,
   "id": "0acfca4a",
   "metadata": {},
   "outputs": [
    {
     "data": {
      "text/plain": [
       "str"
      ]
     },
     "execution_count": 22,
     "metadata": {},
     "output_type": "execute_result"
    }
   ],
   "source": [
    "type(Q_1)"
   ]
  },
  {
   "cell_type": "code",
   "execution_count": 23,
   "id": "3e7ef9e1",
   "metadata": {},
   "outputs": [
    {
     "name": "stdout",
     "output_type": "stream",
     "text": [
      "23\n",
      "<class 'str'>\n"
     ]
    }
   ],
   "source": [
    "Number = input(\"Enter any number : \")\n",
    "\n",
    "print(Number)\n",
    "print(type(Number))"
   ]
  },
  {
   "cell_type": "code",
   "execution_count": 24,
   "id": "ba965c25",
   "metadata": {},
   "outputs": [
    {
     "name": "stdout",
     "output_type": "stream",
     "text": [
      "22\n",
      "<class 'int'>\n"
     ]
    }
   ],
   "source": [
    "Number = int(input(\"Enter any number : \"))\n",
    "\n",
    "print(Number)\n",
    "print(type(Number))"
   ]
  },
  {
   "cell_type": "code",
   "execution_count": 26,
   "id": "2e0026a3",
   "metadata": {},
   "outputs": [
    {
     "name": "stdout",
     "output_type": "stream",
     "text": [
      "False\n",
      "False\n",
      "False\n",
      "False\n",
      "False\n",
      "False\n",
      "False\n"
     ]
    }
   ],
   "source": [
    "# Value of False\n",
    "print(bool(False))\n",
    "\n",
    "# Value of None\n",
    "print(bool(None))\n",
    "\n",
    "# Value of 0 in any programming language.\n",
    "print(bool(0))\n",
    "\n",
    "# Value of Empty string \n",
    "print(bool(\"\"))\n",
    "\n",
    "# Value of empty tuples\n",
    "print(bool(()))\n",
    "\n",
    "# Value of empty list\n",
    "print(bool([]))\n",
    "\n",
    "# value of empty dictionary, set\n",
    "print(bool({}))"
   ]
  },
  {
   "cell_type": "code",
   "execution_count": 27,
   "id": "f2f49c69",
   "metadata": {},
   "outputs": [
    {
     "name": "stdout",
     "output_type": "stream",
     "text": [
      "True\n",
      "True\n",
      "True\n",
      "True\n",
      "True\n",
      "True\n",
      "True\n"
     ]
    }
   ],
   "source": [
    "print(bool(True))\n",
    "print(bool(1))\n",
    "print(bool(23))\n",
    "print(bool(\"A\"))\n",
    "print(bool((1,)))\n",
    "print(bool([\"mango\"]))\n",
    "print(bool({\"1\":\"2\"}))\n"
   ]
  },
  {
   "cell_type": "code",
   "execution_count": 28,
   "id": "f240edd4",
   "metadata": {},
   "outputs": [
    {
     "data": {
      "text/plain": [
       "False"
      ]
     },
     "execution_count": 28,
     "metadata": {},
     "output_type": "execute_result"
    }
   ],
   "source": [
    "10 > 20"
   ]
  },
  {
   "cell_type": "code",
   "execution_count": 30,
   "id": "17e92251",
   "metadata": {},
   "outputs": [
    {
     "data": {
      "text/plain": [
       "True"
      ]
     },
     "execution_count": 30,
     "metadata": {},
     "output_type": "execute_result"
    }
   ],
   "source": [
    "23 > 10"
   ]
  },
  {
   "cell_type": "code",
   "execution_count": null,
   "id": "1dfc4629",
   "metadata": {},
   "outputs": [],
   "source": []
  }
 ],
 "metadata": {
  "kernelspec": {
   "display_name": "Python 3",
   "language": "python",
   "name": "python3"
  },
  "language_info": {
   "codemirror_mode": {
    "name": "ipython",
    "version": 3
   },
   "file_extension": ".py",
   "mimetype": "text/x-python",
   "name": "python",
   "nbconvert_exporter": "python",
   "pygments_lexer": "ipython3",
   "version": "3.12.0"
  }
 },
 "nbformat": 4,
 "nbformat_minor": 5
}
